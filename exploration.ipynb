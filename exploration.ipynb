{
 "metadata": {
  "language_info": {
   "codemirror_mode": {
    "name": "ipython",
    "version": 3
   },
   "file_extension": ".py",
   "mimetype": "text/x-python",
   "name": "python",
   "nbconvert_exporter": "python",
   "pygments_lexer": "ipython3",
   "version": "3.8.4-final"
  },
  "orig_nbformat": 2,
  "kernelspec": {
   "name": "python3",
   "display_name": "Python 3.8.4 32-bit",
   "metadata": {
    "interpreter": {
     "hash": "a91775be6d7f408d0d5f909be844b009446185a0590b986db5400233d5b26618"
    }
   }
  }
 },
 "nbformat": 4,
 "nbformat_minor": 2,
 "cells": [
  {
   "cell_type": "code",
   "execution_count": 2,
   "metadata": {},
   "outputs": [],
   "source": [
    "import pandas as pd"
   ]
  },
  {
   "cell_type": "code",
   "execution_count": 146,
   "metadata": {},
   "outputs": [
    {
     "output_type": "execute_result",
     "data": {
      "text/plain": [
       "        company_id               company_created_at  company_mcc company_type\n",
       "0  67c2d7c22cae393  2020-07-28 15:43:44.124000+0000       7392.0     outbound"
      ],
      "text/html": "<div>\n<style scoped>\n    .dataframe tbody tr th:only-of-type {\n        vertical-align: middle;\n    }\n\n    .dataframe tbody tr th {\n        vertical-align: top;\n    }\n\n    .dataframe thead th {\n        text-align: right;\n    }\n</style>\n<table border=\"1\" class=\"dataframe\">\n  <thead>\n    <tr style=\"text-align: right;\">\n      <th></th>\n      <th>company_id</th>\n      <th>company_created_at</th>\n      <th>company_mcc</th>\n      <th>company_type</th>\n    </tr>\n  </thead>\n  <tbody>\n    <tr>\n      <th>0</th>\n      <td>67c2d7c22cae393</td>\n      <td>2020-07-28 15:43:44.124000+0000</td>\n      <td>7392.0</td>\n      <td>outbound</td>\n    </tr>\n  </tbody>\n</table>\n</div>"
     },
     "metadata": {},
     "execution_count": 146
    }
   ],
   "source": [
    "df = pd.read_csv('data\\Companies.csv')\n",
    "df[(df['company_id'] == '67c2d7c22cae393')]"
   ]
  },
  {
   "cell_type": "code",
   "execution_count": 168,
   "metadata": {},
   "outputs": [
    {
     "output_type": "stream",
     "name": "stdout",
     "text": [
      "(531, 10)\n"
     ]
    }
   ],
   "source": [
    "Transactions = pd.read_csv('data\\\\Transactions.csv')\n",
    "print(Transactions.shape)\n",
    "\n",
    "Transactions.loc[Transactions[\"acquirer_name\"] == 'pagarme', \"product_name\"] = 'PSP'\n",
    "Transactions.loc[Transactions[\"acquirer_name\"] != 'pagarme', \"product_name\"] = 'gateway'\n",
    "Transactions[Transactions['transaction_id']=='ff5e9dbc52']\n",
    "Transactions['mdr_fee'] = 0\n",
    "\n"
   ]
  },
  {
   "cell_type": "code",
   "execution_count": 169,
   "metadata": {},
   "outputs": [
    {
     "output_type": "stream",
     "name": "stdout",
     "text": [
      "(859, 10)\n"
     ]
    },
    {
     "output_type": "execute_result",
     "data": {
      "text/plain": [
       "    transaction_id      transaction_created_at      transaction_updated_at  \\\n",
       "0       9009ab2a35  2020-09-09 12:28:41.195000  2020-09-09 12:28:42.451000   \n",
       "1       ff5e9dbc52  2020-09-09 12:58:49.905000  2020-09-09 12:58:51.636000   \n",
       "2       c0cb6760a2  2020-09-09 12:59:23.530000  2020-09-09 12:59:25.458000   \n",
       "3       071ba130dd  2020-09-09 13:10:18.098000  2020-09-09 13:10:19.918000   \n",
       "4       c2cafaf5a7  2020-09-09 13:54:21.852000  2020-09-09 13:54:23.990000   \n",
       "..             ...                         ...                         ...   \n",
       "526     b610115776  2020-09-09 17:59:58.858000  2020-09-09 18:14:09.932000   \n",
       "527     ced0b64b1f  2020-09-09 17:59:59.077000  2020-09-09 18:22:03.489000   \n",
       "528     ffa5688295  2020-09-09 17:59:59.184000  2020-09-09 18:00:00.377000   \n",
       "529     c15f59ca79  2020-09-09 17:59:59.645000  2020-09-09 18:00:01.424000   \n",
       "530     0c4061a69d  2020-09-09 17:59:59.778000  2020-09-09 18:00:10.259000   \n",
       "\n",
       "    acquirer_name       company_id  transaction_installments  amount  \\\n",
       "0         pagarme  707f3fa3d265b9e                         3   34300   \n",
       "1         pagarme  a1c2f57e42dd0b9                         5   49990   \n",
       "2         pagarme  707f3fa3d265b9e                         1    8000   \n",
       "3         pagarme  a1c2f57e42dd0b9                         3   59980   \n",
       "4         pagarme  a1c2f57e42dd0b9                         7   39999   \n",
       "..            ...              ...                       ...     ...   \n",
       "526    acquirer_2  dc984ecf72ebcaa                         1    3500   \n",
       "527    acquirer_2  dc984ecf72ebcaa                         1   79532   \n",
       "528       pagarme  8e031d520c2b921                         1    7180   \n",
       "529       pagarme  efe7c1eaab861a5                         1   24290   \n",
       "530       pagarme  a9810f693ffb8e6                         4   41900   \n",
       "\n",
       "    payment_method  gateway_fee           status product_name  mdr_fee  \n",
       "0      credit_card          0.0             paid          PSP    34300  \n",
       "1      credit_card         15.0             paid          PSP    49990  \n",
       "2      credit_card          0.0             paid          PSP     8000  \n",
       "3      credit_card         15.0             paid          PSP    59980  \n",
       "4      credit_card         15.0             paid          PSP    39999  \n",
       "..             ...          ...              ...          ...      ...  \n",
       "526    credit_card          0.0         refunded      gateway        0  \n",
       "527    credit_card         20.0             paid      gateway        0  \n",
       "528         boleto          0.0  waiting_payment          PSP        0  \n",
       "529    credit_card          0.0          refused          PSP        0  \n",
       "530    credit_card        100.0             paid          PSP    41900  \n",
       "\n",
       "[531 rows x 12 columns]"
      ],
      "text/html": "<div>\n<style scoped>\n    .dataframe tbody tr th:only-of-type {\n        vertical-align: middle;\n    }\n\n    .dataframe tbody tr th {\n        vertical-align: top;\n    }\n\n    .dataframe thead th {\n        text-align: right;\n    }\n</style>\n<table border=\"1\" class=\"dataframe\">\n  <thead>\n    <tr style=\"text-align: right;\">\n      <th></th>\n      <th>transaction_id</th>\n      <th>transaction_created_at</th>\n      <th>transaction_updated_at</th>\n      <th>acquirer_name</th>\n      <th>company_id</th>\n      <th>transaction_installments</th>\n      <th>amount</th>\n      <th>payment_method</th>\n      <th>gateway_fee</th>\n      <th>status</th>\n      <th>product_name</th>\n      <th>mdr_fee</th>\n    </tr>\n  </thead>\n  <tbody>\n    <tr>\n      <th>0</th>\n      <td>9009ab2a35</td>\n      <td>2020-09-09 12:28:41.195000</td>\n      <td>2020-09-09 12:28:42.451000</td>\n      <td>pagarme</td>\n      <td>707f3fa3d265b9e</td>\n      <td>3</td>\n      <td>34300</td>\n      <td>credit_card</td>\n      <td>0.0</td>\n      <td>paid</td>\n      <td>PSP</td>\n      <td>34300</td>\n    </tr>\n    <tr>\n      <th>1</th>\n      <td>ff5e9dbc52</td>\n      <td>2020-09-09 12:58:49.905000</td>\n      <td>2020-09-09 12:58:51.636000</td>\n      <td>pagarme</td>\n      <td>a1c2f57e42dd0b9</td>\n      <td>5</td>\n      <td>49990</td>\n      <td>credit_card</td>\n      <td>15.0</td>\n      <td>paid</td>\n      <td>PSP</td>\n      <td>49990</td>\n    </tr>\n    <tr>\n      <th>2</th>\n      <td>c0cb6760a2</td>\n      <td>2020-09-09 12:59:23.530000</td>\n      <td>2020-09-09 12:59:25.458000</td>\n      <td>pagarme</td>\n      <td>707f3fa3d265b9e</td>\n      <td>1</td>\n      <td>8000</td>\n      <td>credit_card</td>\n      <td>0.0</td>\n      <td>paid</td>\n      <td>PSP</td>\n      <td>8000</td>\n    </tr>\n    <tr>\n      <th>3</th>\n      <td>071ba130dd</td>\n      <td>2020-09-09 13:10:18.098000</td>\n      <td>2020-09-09 13:10:19.918000</td>\n      <td>pagarme</td>\n      <td>a1c2f57e42dd0b9</td>\n      <td>3</td>\n      <td>59980</td>\n      <td>credit_card</td>\n      <td>15.0</td>\n      <td>paid</td>\n      <td>PSP</td>\n      <td>59980</td>\n    </tr>\n    <tr>\n      <th>4</th>\n      <td>c2cafaf5a7</td>\n      <td>2020-09-09 13:54:21.852000</td>\n      <td>2020-09-09 13:54:23.990000</td>\n      <td>pagarme</td>\n      <td>a1c2f57e42dd0b9</td>\n      <td>7</td>\n      <td>39999</td>\n      <td>credit_card</td>\n      <td>15.0</td>\n      <td>paid</td>\n      <td>PSP</td>\n      <td>39999</td>\n    </tr>\n    <tr>\n      <th>...</th>\n      <td>...</td>\n      <td>...</td>\n      <td>...</td>\n      <td>...</td>\n      <td>...</td>\n      <td>...</td>\n      <td>...</td>\n      <td>...</td>\n      <td>...</td>\n      <td>...</td>\n      <td>...</td>\n      <td>...</td>\n    </tr>\n    <tr>\n      <th>526</th>\n      <td>b610115776</td>\n      <td>2020-09-09 17:59:58.858000</td>\n      <td>2020-09-09 18:14:09.932000</td>\n      <td>acquirer_2</td>\n      <td>dc984ecf72ebcaa</td>\n      <td>1</td>\n      <td>3500</td>\n      <td>credit_card</td>\n      <td>0.0</td>\n      <td>refunded</td>\n      <td>gateway</td>\n      <td>0</td>\n    </tr>\n    <tr>\n      <th>527</th>\n      <td>ced0b64b1f</td>\n      <td>2020-09-09 17:59:59.077000</td>\n      <td>2020-09-09 18:22:03.489000</td>\n      <td>acquirer_2</td>\n      <td>dc984ecf72ebcaa</td>\n      <td>1</td>\n      <td>79532</td>\n      <td>credit_card</td>\n      <td>20.0</td>\n      <td>paid</td>\n      <td>gateway</td>\n      <td>0</td>\n    </tr>\n    <tr>\n      <th>528</th>\n      <td>ffa5688295</td>\n      <td>2020-09-09 17:59:59.184000</td>\n      <td>2020-09-09 18:00:00.377000</td>\n      <td>pagarme</td>\n      <td>8e031d520c2b921</td>\n      <td>1</td>\n      <td>7180</td>\n      <td>boleto</td>\n      <td>0.0</td>\n      <td>waiting_payment</td>\n      <td>PSP</td>\n      <td>0</td>\n    </tr>\n    <tr>\n      <th>529</th>\n      <td>c15f59ca79</td>\n      <td>2020-09-09 17:59:59.645000</td>\n      <td>2020-09-09 18:00:01.424000</td>\n      <td>pagarme</td>\n      <td>efe7c1eaab861a5</td>\n      <td>1</td>\n      <td>24290</td>\n      <td>credit_card</td>\n      <td>0.0</td>\n      <td>refused</td>\n      <td>PSP</td>\n      <td>0</td>\n    </tr>\n    <tr>\n      <th>530</th>\n      <td>0c4061a69d</td>\n      <td>2020-09-09 17:59:59.778000</td>\n      <td>2020-09-09 18:00:10.259000</td>\n      <td>pagarme</td>\n      <td>a9810f693ffb8e6</td>\n      <td>4</td>\n      <td>41900</td>\n      <td>credit_card</td>\n      <td>100.0</td>\n      <td>paid</td>\n      <td>PSP</td>\n      <td>41900</td>\n    </tr>\n  </tbody>\n</table>\n<p>531 rows × 12 columns</p>\n</div>"
     },
     "metadata": {},
     "execution_count": 169
    }
   ],
   "source": [
    "Payables = pd.read_csv('data\\\\Payables.csv') #PAGAR ME COMO PSP\n",
    "Payables = Payables[Payables['payment_method'] != 'boleto'] \n",
    "\n",
    "cols = ['transaction_id','type','payment_method','fee']\n",
    "Payables[cols]\n",
    "\n",
    "print(Payables.shape) #all except boleto = 859 rows\n",
    "\n",
    "Payables['type'].unique()\n",
    "Payables[Payables['transaction_id'] == '9009ab2a35']['amount'].sum() #HUUUM ENTENDI\n",
    "Payables[Payables['transaction_id'] == 'ff5e9dbc52']['amount'].sum() #HUUUM ENTENDI\n",
    "\n",
    "#pegando valores da taxa mdr\n",
    "for i in Payables['transaction_id'].unique(): \n",
    "    Transactions.loc[Transactions[\"transaction_id\"] == i, \"mdr_fee\"] = Payables[Payables['transaction_id'] == i]['amount'].sum()\n",
    "\n",
    "\n",
    "Transactions\n"
   ]
  },
  {
   "cell_type": "code",
   "execution_count": 176,
   "metadata": {
    "tags": []
   },
   "outputs": [
    {
     "output_type": "stream",
     "name": "stdout",
     "text": [
      "(1925, 6)\n(635, 6)\n"
     ]
    },
    {
     "output_type": "execute_result",
     "data": {
      "text/plain": [
       "    transaction_id      transaction_created_at      transaction_updated_at  \\\n",
       "0       9009ab2a35  2020-09-09 12:28:41.195000  2020-09-09 12:28:42.451000   \n",
       "1       ff5e9dbc52  2020-09-09 12:58:49.905000  2020-09-09 12:58:51.636000   \n",
       "2       c0cb6760a2  2020-09-09 12:59:23.530000  2020-09-09 12:59:25.458000   \n",
       "3       071ba130dd  2020-09-09 13:10:18.098000  2020-09-09 13:10:19.918000   \n",
       "4       c2cafaf5a7  2020-09-09 13:54:21.852000  2020-09-09 13:54:23.990000   \n",
       "..             ...                         ...                         ...   \n",
       "526     b610115776  2020-09-09 17:59:58.858000  2020-09-09 18:14:09.932000   \n",
       "527     ced0b64b1f  2020-09-09 17:59:59.077000  2020-09-09 18:22:03.489000   \n",
       "528     ffa5688295  2020-09-09 17:59:59.184000  2020-09-09 18:00:00.377000   \n",
       "529     c15f59ca79  2020-09-09 17:59:59.645000  2020-09-09 18:00:01.424000   \n",
       "530     0c4061a69d  2020-09-09 17:59:59.778000  2020-09-09 18:00:10.259000   \n",
       "\n",
       "    acquirer_name       company_id  transaction_installments  amount  \\\n",
       "0         pagarme  707f3fa3d265b9e                         3   34300   \n",
       "1         pagarme  a1c2f57e42dd0b9                         5   49990   \n",
       "2         pagarme  707f3fa3d265b9e                         1    8000   \n",
       "3         pagarme  a1c2f57e42dd0b9                         3   59980   \n",
       "4         pagarme  a1c2f57e42dd0b9                         7   39999   \n",
       "..            ...              ...                       ...     ...   \n",
       "526    acquirer_2  dc984ecf72ebcaa                         1    3500   \n",
       "527    acquirer_2  dc984ecf72ebcaa                         1   79532   \n",
       "528       pagarme  8e031d520c2b921                         1    7180   \n",
       "529       pagarme  efe7c1eaab861a5                         1   24290   \n",
       "530       pagarme  a9810f693ffb8e6                         4   41900   \n",
       "\n",
       "    payment_method  gateway_fee           status product_name  mdr_fee  \\\n",
       "0      credit_card          0.0             paid          PSP    34300   \n",
       "1      credit_card         15.0             paid          PSP    49990   \n",
       "2      credit_card          0.0             paid          PSP     8000   \n",
       "3      credit_card         15.0             paid          PSP    59980   \n",
       "4      credit_card         15.0             paid          PSP    39999   \n",
       "..             ...          ...              ...          ...      ...   \n",
       "526    credit_card          0.0         refunded      gateway        0   \n",
       "527    credit_card         20.0             paid      gateway        0   \n",
       "528         boleto          0.0  waiting_payment          PSP        0   \n",
       "529    credit_card          0.0          refused          PSP        0   \n",
       "530    credit_card        100.0             paid          PSP    41900   \n",
       "\n",
       "    type_transaction  \n",
       "0                NaN  \n",
       "1                NaN  \n",
       "2                NaN  \n",
       "3                NaN  \n",
       "4                NaN  \n",
       "..               ...  \n",
       "526              NaN  \n",
       "527              NaN  \n",
       "528                   \n",
       "529                   \n",
       "530              NaN  \n",
       "\n",
       "[531 rows x 13 columns]"
      ],
      "text/html": "<div>\n<style scoped>\n    .dataframe tbody tr th:only-of-type {\n        vertical-align: middle;\n    }\n\n    .dataframe tbody tr th {\n        vertical-align: top;\n    }\n\n    .dataframe thead th {\n        text-align: right;\n    }\n</style>\n<table border=\"1\" class=\"dataframe\">\n  <thead>\n    <tr style=\"text-align: right;\">\n      <th></th>\n      <th>transaction_id</th>\n      <th>transaction_created_at</th>\n      <th>transaction_updated_at</th>\n      <th>acquirer_name</th>\n      <th>company_id</th>\n      <th>transaction_installments</th>\n      <th>amount</th>\n      <th>payment_method</th>\n      <th>gateway_fee</th>\n      <th>status</th>\n      <th>product_name</th>\n      <th>mdr_fee</th>\n      <th>type_transaction</th>\n    </tr>\n  </thead>\n  <tbody>\n    <tr>\n      <th>0</th>\n      <td>9009ab2a35</td>\n      <td>2020-09-09 12:28:41.195000</td>\n      <td>2020-09-09 12:28:42.451000</td>\n      <td>pagarme</td>\n      <td>707f3fa3d265b9e</td>\n      <td>3</td>\n      <td>34300</td>\n      <td>credit_card</td>\n      <td>0.0</td>\n      <td>paid</td>\n      <td>PSP</td>\n      <td>34300</td>\n      <td>NaN</td>\n    </tr>\n    <tr>\n      <th>1</th>\n      <td>ff5e9dbc52</td>\n      <td>2020-09-09 12:58:49.905000</td>\n      <td>2020-09-09 12:58:51.636000</td>\n      <td>pagarme</td>\n      <td>a1c2f57e42dd0b9</td>\n      <td>5</td>\n      <td>49990</td>\n      <td>credit_card</td>\n      <td>15.0</td>\n      <td>paid</td>\n      <td>PSP</td>\n      <td>49990</td>\n      <td>NaN</td>\n    </tr>\n    <tr>\n      <th>2</th>\n      <td>c0cb6760a2</td>\n      <td>2020-09-09 12:59:23.530000</td>\n      <td>2020-09-09 12:59:25.458000</td>\n      <td>pagarme</td>\n      <td>707f3fa3d265b9e</td>\n      <td>1</td>\n      <td>8000</td>\n      <td>credit_card</td>\n      <td>0.0</td>\n      <td>paid</td>\n      <td>PSP</td>\n      <td>8000</td>\n      <td>NaN</td>\n    </tr>\n    <tr>\n      <th>3</th>\n      <td>071ba130dd</td>\n      <td>2020-09-09 13:10:18.098000</td>\n      <td>2020-09-09 13:10:19.918000</td>\n      <td>pagarme</td>\n      <td>a1c2f57e42dd0b9</td>\n      <td>3</td>\n      <td>59980</td>\n      <td>credit_card</td>\n      <td>15.0</td>\n      <td>paid</td>\n      <td>PSP</td>\n      <td>59980</td>\n      <td>NaN</td>\n    </tr>\n    <tr>\n      <th>4</th>\n      <td>c2cafaf5a7</td>\n      <td>2020-09-09 13:54:21.852000</td>\n      <td>2020-09-09 13:54:23.990000</td>\n      <td>pagarme</td>\n      <td>a1c2f57e42dd0b9</td>\n      <td>7</td>\n      <td>39999</td>\n      <td>credit_card</td>\n      <td>15.0</td>\n      <td>paid</td>\n      <td>PSP</td>\n      <td>39999</td>\n      <td>NaN</td>\n    </tr>\n    <tr>\n      <th>...</th>\n      <td>...</td>\n      <td>...</td>\n      <td>...</td>\n      <td>...</td>\n      <td>...</td>\n      <td>...</td>\n      <td>...</td>\n      <td>...</td>\n      <td>...</td>\n      <td>...</td>\n      <td>...</td>\n      <td>...</td>\n      <td>...</td>\n    </tr>\n    <tr>\n      <th>526</th>\n      <td>b610115776</td>\n      <td>2020-09-09 17:59:58.858000</td>\n      <td>2020-09-09 18:14:09.932000</td>\n      <td>acquirer_2</td>\n      <td>dc984ecf72ebcaa</td>\n      <td>1</td>\n      <td>3500</td>\n      <td>credit_card</td>\n      <td>0.0</td>\n      <td>refunded</td>\n      <td>gateway</td>\n      <td>0</td>\n      <td>NaN</td>\n    </tr>\n    <tr>\n      <th>527</th>\n      <td>ced0b64b1f</td>\n      <td>2020-09-09 17:59:59.077000</td>\n      <td>2020-09-09 18:22:03.489000</td>\n      <td>acquirer_2</td>\n      <td>dc984ecf72ebcaa</td>\n      <td>1</td>\n      <td>79532</td>\n      <td>credit_card</td>\n      <td>20.0</td>\n      <td>paid</td>\n      <td>gateway</td>\n      <td>0</td>\n      <td>NaN</td>\n    </tr>\n    <tr>\n      <th>528</th>\n      <td>ffa5688295</td>\n      <td>2020-09-09 17:59:59.184000</td>\n      <td>2020-09-09 18:00:00.377000</td>\n      <td>pagarme</td>\n      <td>8e031d520c2b921</td>\n      <td>1</td>\n      <td>7180</td>\n      <td>boleto</td>\n      <td>0.0</td>\n      <td>waiting_payment</td>\n      <td>PSP</td>\n      <td>0</td>\n      <td></td>\n    </tr>\n    <tr>\n      <th>529</th>\n      <td>c15f59ca79</td>\n      <td>2020-09-09 17:59:59.645000</td>\n      <td>2020-09-09 18:00:01.424000</td>\n      <td>pagarme</td>\n      <td>efe7c1eaab861a5</td>\n      <td>1</td>\n      <td>24290</td>\n      <td>credit_card</td>\n      <td>0.0</td>\n      <td>refused</td>\n      <td>PSP</td>\n      <td>0</td>\n      <td></td>\n    </tr>\n    <tr>\n      <th>530</th>\n      <td>0c4061a69d</td>\n      <td>2020-09-09 17:59:59.778000</td>\n      <td>2020-09-09 18:00:10.259000</td>\n      <td>pagarme</td>\n      <td>a9810f693ffb8e6</td>\n      <td>4</td>\n      <td>41900</td>\n      <td>credit_card</td>\n      <td>100.0</td>\n      <td>paid</td>\n      <td>PSP</td>\n      <td>41900</td>\n      <td>NaN</td>\n    </tr>\n  </tbody>\n</table>\n<p>531 rows × 13 columns</p>\n</div>"
     },
     "metadata": {},
     "execution_count": 176
    }
   ],
   "source": [
    "TransactionOperations = pd.read_csv('data\\\\TransactionOperations.csv')\n",
    "print(TransactionOperations.shape) #all\n",
    "\n",
    "refund = (TransactionOperations['type']=='refund') | (TransactionOperations['type']=='capture') \n",
    "TransactionOperations = TransactionOperations[refund]\n",
    "TransactionOperations = TransactionOperations.loc[TransactionOperations['status'] == 'success']\n",
    "TransactionOperations\n",
    "print(TransactionOperations.shape) #all\n",
    "TransactionOperations[TransactionOperations['transaction_id'] == '9009ab2a35'] #HUUUM ENTENDI\n",
    "\n",
    "Transactions['type_transaction'] = ''\n",
    "\n",
    "#pegando valores da taxa mdr\n",
    "for i in TransactionOperations['transaction_id'].unique(): \n",
    "    Transactions.loc[Transactions[\"transaction_id\"] == i, \"type_transaction\"] = TransactionOperations[TransactionOperations['transaction_id'] == i]['type']\n",
    "    #print(TransactionOperations[TransactionOperations['transaction_id'] == i]['type'])\n",
    "\n",
    "\n",
    "Transactions\n"
   ]
  },
  {
   "cell_type": "code",
   "execution_count": null,
   "metadata": {},
   "outputs": [],
   "source": []
  }
 ]
}