{
 "metadata": {
  "language_info": {
   "codemirror_mode": {
    "name": "ipython",
    "version": 3
   },
   "file_extension": ".py",
   "mimetype": "text/x-python",
   "name": "python",
   "nbconvert_exporter": "python",
   "pygments_lexer": "ipython3",
   "version": "3.8.4-final"
  },
  "orig_nbformat": 2,
  "kernelspec": {
   "name": "python3",
   "display_name": "Python 3.8.4 32-bit",
   "metadata": {
    "interpreter": {
     "hash": "a91775be6d7f408d0d5f909be844b009446185a0590b986db5400233d5b26618"
    }
   }
  }
 },
 "nbformat": 4,
 "nbformat_minor": 2,
 "cells": [
  {
   "cell_type": "code",
   "execution_count": 1,
   "metadata": {},
   "outputs": [],
   "source": [
    "import pandas as pd"
   ]
  },
  {
   "cell_type": "code",
   "execution_count": 17,
   "metadata": {},
   "outputs": [
    {
     "output_type": "execute_result",
     "data": {
      "text/plain": [
       "<bound method Series.unique of 0      67c2d7c22cae393\n",
       "1      546cdbf9433d436\n",
       "2      fd3ec57560dbd01\n",
       "3      712e4b393d52515\n",
       "4      c9bcb2e471c5d8e\n",
       "            ...       \n",
       "282    efe7c1eaab861a5\n",
       "283    c5d385a485c1fb6\n",
       "284    21ea21eccce3c50\n",
       "285    078e46f5b7adb56\n",
       "286    8164dd9e3d9a51a\n",
       "Name: company_id, Length: 287, dtype: object>"
      ]
     },
     "metadata": {},
     "execution_count": 17
    }
   ],
   "source": [
    "df = pd.read_csv('data\\Companies.csv')\n",
    "df[(df['company_id'] == '67c2d7c22cae393')]\n",
    "\n",
    "df['company_id'].unique"
   ]
  },
  {
   "cell_type": "code",
   "execution_count": 5,
   "metadata": {},
   "outputs": [
    {
     "output_type": "execute_result",
     "data": {
      "text/plain": [
       "company_id             object\n",
       "company_created_at     object\n",
       "company_mcc           float64\n",
       "company_type           object\n",
       "dtype: object"
      ]
     },
     "metadata": {},
     "execution_count": 5
    }
   ],
   "source": [
    "df.dtypes"
   ]
  },
  {
   "cell_type": "code",
   "execution_count": 26,
   "metadata": {},
   "outputs": [
    {
     "output_type": "execute_result",
     "data": {
      "text/plain": [
       "    transaction_id      transaction_created_at      transaction_updated_at  \\\n",
       "0       9009ab2a35  2020-09-09 12:28:41.195000  2020-09-09 12:28:42.451000   \n",
       "1       ff5e9dbc52  2020-09-09 12:58:49.905000  2020-09-09 12:58:51.636000   \n",
       "2       c0cb6760a2  2020-09-09 12:59:23.530000  2020-09-09 12:59:25.458000   \n",
       "3       071ba130dd  2020-09-09 13:10:18.098000  2020-09-09 13:10:19.918000   \n",
       "4       c2cafaf5a7  2020-09-09 13:54:21.852000  2020-09-09 13:54:23.990000   \n",
       "..             ...                         ...                         ...   \n",
       "526     b610115776  2020-09-09 17:59:58.858000  2020-09-09 18:14:09.932000   \n",
       "527     ced0b64b1f  2020-09-09 17:59:59.077000  2020-09-09 18:22:03.489000   \n",
       "528     ffa5688295  2020-09-09 17:59:59.184000  2020-09-09 18:00:00.377000   \n",
       "529     c15f59ca79  2020-09-09 17:59:59.645000  2020-09-09 18:00:01.424000   \n",
       "530     0c4061a69d  2020-09-09 17:59:59.778000  2020-09-09 18:00:10.259000   \n",
       "\n",
       "    acquirer_name       company_id  transaction_installments  amount  \\\n",
       "0         pagarme  707f3fa3d265b9e                         3   34300   \n",
       "1         pagarme  a1c2f57e42dd0b9                         5   49990   \n",
       "2         pagarme  707f3fa3d265b9e                         1    8000   \n",
       "3         pagarme  a1c2f57e42dd0b9                         3   59980   \n",
       "4         pagarme  a1c2f57e42dd0b9                         7   39999   \n",
       "..            ...              ...                       ...     ...   \n",
       "526    acquirer_2  dc984ecf72ebcaa                         1    3500   \n",
       "527    acquirer_2  dc984ecf72ebcaa                         1   79532   \n",
       "528       pagarme  8e031d520c2b921                         1    7180   \n",
       "529       pagarme  efe7c1eaab861a5                         1   24290   \n",
       "530       pagarme  a9810f693ffb8e6                         4   41900   \n",
       "\n",
       "    payment_method  gateway_fee           status  \n",
       "0      credit_card          0.0             paid  \n",
       "1      credit_card         15.0             paid  \n",
       "2      credit_card          0.0             paid  \n",
       "3      credit_card         15.0             paid  \n",
       "4      credit_card         15.0             paid  \n",
       "..             ...          ...              ...  \n",
       "526    credit_card          0.0         refunded  \n",
       "527    credit_card         20.0             paid  \n",
       "528         boleto          0.0  waiting_payment  \n",
       "529    credit_card          0.0          refused  \n",
       "530    credit_card        100.0             paid  \n",
       "\n",
       "[531 rows x 10 columns]"
      ],
      "text/html": "<div>\n<style scoped>\n    .dataframe tbody tr th:only-of-type {\n        vertical-align: middle;\n    }\n\n    .dataframe tbody tr th {\n        vertical-align: top;\n    }\n\n    .dataframe thead th {\n        text-align: right;\n    }\n</style>\n<table border=\"1\" class=\"dataframe\">\n  <thead>\n    <tr style=\"text-align: right;\">\n      <th></th>\n      <th>transaction_id</th>\n      <th>transaction_created_at</th>\n      <th>transaction_updated_at</th>\n      <th>acquirer_name</th>\n      <th>company_id</th>\n      <th>transaction_installments</th>\n      <th>amount</th>\n      <th>payment_method</th>\n      <th>gateway_fee</th>\n      <th>status</th>\n    </tr>\n  </thead>\n  <tbody>\n    <tr>\n      <th>0</th>\n      <td>9009ab2a35</td>\n      <td>2020-09-09 12:28:41.195000</td>\n      <td>2020-09-09 12:28:42.451000</td>\n      <td>pagarme</td>\n      <td>707f3fa3d265b9e</td>\n      <td>3</td>\n      <td>34300</td>\n      <td>credit_card</td>\n      <td>0.0</td>\n      <td>paid</td>\n    </tr>\n    <tr>\n      <th>1</th>\n      <td>ff5e9dbc52</td>\n      <td>2020-09-09 12:58:49.905000</td>\n      <td>2020-09-09 12:58:51.636000</td>\n      <td>pagarme</td>\n      <td>a1c2f57e42dd0b9</td>\n      <td>5</td>\n      <td>49990</td>\n      <td>credit_card</td>\n      <td>15.0</td>\n      <td>paid</td>\n    </tr>\n    <tr>\n      <th>2</th>\n      <td>c0cb6760a2</td>\n      <td>2020-09-09 12:59:23.530000</td>\n      <td>2020-09-09 12:59:25.458000</td>\n      <td>pagarme</td>\n      <td>707f3fa3d265b9e</td>\n      <td>1</td>\n      <td>8000</td>\n      <td>credit_card</td>\n      <td>0.0</td>\n      <td>paid</td>\n    </tr>\n    <tr>\n      <th>3</th>\n      <td>071ba130dd</td>\n      <td>2020-09-09 13:10:18.098000</td>\n      <td>2020-09-09 13:10:19.918000</td>\n      <td>pagarme</td>\n      <td>a1c2f57e42dd0b9</td>\n      <td>3</td>\n      <td>59980</td>\n      <td>credit_card</td>\n      <td>15.0</td>\n      <td>paid</td>\n    </tr>\n    <tr>\n      <th>4</th>\n      <td>c2cafaf5a7</td>\n      <td>2020-09-09 13:54:21.852000</td>\n      <td>2020-09-09 13:54:23.990000</td>\n      <td>pagarme</td>\n      <td>a1c2f57e42dd0b9</td>\n      <td>7</td>\n      <td>39999</td>\n      <td>credit_card</td>\n      <td>15.0</td>\n      <td>paid</td>\n    </tr>\n    <tr>\n      <th>...</th>\n      <td>...</td>\n      <td>...</td>\n      <td>...</td>\n      <td>...</td>\n      <td>...</td>\n      <td>...</td>\n      <td>...</td>\n      <td>...</td>\n      <td>...</td>\n      <td>...</td>\n    </tr>\n    <tr>\n      <th>526</th>\n      <td>b610115776</td>\n      <td>2020-09-09 17:59:58.858000</td>\n      <td>2020-09-09 18:14:09.932000</td>\n      <td>acquirer_2</td>\n      <td>dc984ecf72ebcaa</td>\n      <td>1</td>\n      <td>3500</td>\n      <td>credit_card</td>\n      <td>0.0</td>\n      <td>refunded</td>\n    </tr>\n    <tr>\n      <th>527</th>\n      <td>ced0b64b1f</td>\n      <td>2020-09-09 17:59:59.077000</td>\n      <td>2020-09-09 18:22:03.489000</td>\n      <td>acquirer_2</td>\n      <td>dc984ecf72ebcaa</td>\n      <td>1</td>\n      <td>79532</td>\n      <td>credit_card</td>\n      <td>20.0</td>\n      <td>paid</td>\n    </tr>\n    <tr>\n      <th>528</th>\n      <td>ffa5688295</td>\n      <td>2020-09-09 17:59:59.184000</td>\n      <td>2020-09-09 18:00:00.377000</td>\n      <td>pagarme</td>\n      <td>8e031d520c2b921</td>\n      <td>1</td>\n      <td>7180</td>\n      <td>boleto</td>\n      <td>0.0</td>\n      <td>waiting_payment</td>\n    </tr>\n    <tr>\n      <th>529</th>\n      <td>c15f59ca79</td>\n      <td>2020-09-09 17:59:59.645000</td>\n      <td>2020-09-09 18:00:01.424000</td>\n      <td>pagarme</td>\n      <td>efe7c1eaab861a5</td>\n      <td>1</td>\n      <td>24290</td>\n      <td>credit_card</td>\n      <td>0.0</td>\n      <td>refused</td>\n    </tr>\n    <tr>\n      <th>530</th>\n      <td>0c4061a69d</td>\n      <td>2020-09-09 17:59:59.778000</td>\n      <td>2020-09-09 18:00:10.259000</td>\n      <td>pagarme</td>\n      <td>a9810f693ffb8e6</td>\n      <td>4</td>\n      <td>41900</td>\n      <td>credit_card</td>\n      <td>100.0</td>\n      <td>paid</td>\n    </tr>\n  </tbody>\n</table>\n<p>531 rows × 10 columns</p>\n</div>"
     },
     "metadata": {},
     "execution_count": 26
    }
   ],
   "source": [
    "transaction = pd.read_csv('data\\\\Transactions.csv')\n",
    "transaction"
   ]
  },
  {
   "cell_type": "code",
   "execution_count": 27,
   "metadata": {},
   "outputs": [
    {
     "output_type": "execute_result",
     "data": {
      "text/plain": [
       "array(['pagarme', 'acquirer_2', 'acquirer_1', 'acquirer_3'], dtype=object)"
      ]
     },
     "metadata": {},
     "execution_count": 27
    }
   ],
   "source": [
    "transaction['acquirer_name'].unique()"
   ]
  },
  {
   "cell_type": "code",
   "execution_count": 23,
   "metadata": {},
   "outputs": [
    {
     "output_type": "execute_result",
     "data": {
      "text/plain": [
       "     transaction_operation_id transaction_id   status        type  \\\n",
       "0     to_f0f0eb4612204c011a36     61723017cd  success  conciliate   \n",
       "1     to_90616a2952e1b998d84e     61723017cd  success       issue   \n",
       "2     to_682464879f7d921cdf3b     61723017cd  success   authorize   \n",
       "3     to_4ad8f4fc8b848452652c     f0e92c6d72  success     capture   \n",
       "4     to_4dfc38802d45cc3c5748     f0e92c6d72  success     capture   \n",
       "...                       ...            ...      ...         ...   \n",
       "1920  to_746cae69f9c5a3189faf     d47239e070  success   authorize   \n",
       "1921  to_24505ac5d8b75351547d     30547a4201  success   authorize   \n",
       "1922  to_4493f93b9f2fd6071847     30547a4201  success   authorize   \n",
       "1923  to_8f7d4b2b129b50a72954     5f9c73321d  success       issue   \n",
       "1924  to_1b1c1863f269f084ffab     5f9c73321d  success   authorize   \n",
       "\n",
       "     acquirer_name transaction_operation_created_at  \n",
       "0          pagarme    2020-09-10 08:21:58.688000000  \n",
       "1          pagarme    2020-09-09 17:56:12.878000000  \n",
       "2          pagarme    2020-09-09 17:56:12.884000000  \n",
       "3       acquirer_3    2020-09-09 17:57:57.881000000  \n",
       "4          pagarme    2020-09-09 17:57:57.092000000  \n",
       "...            ...                              ...  \n",
       "1920    acquirer_3    2020-09-09 17:59:52.169000000  \n",
       "1921       pagarme    2020-09-09 17:58:30.426000000  \n",
       "1922    acquirer_3    2020-09-09 17:58:30.545000000  \n",
       "1923       pagarme    2020-09-09 17:59:14.176000000  \n",
       "1924       pagarme    2020-09-09 17:59:14.183000000  \n",
       "\n",
       "[1925 rows x 6 columns]"
      ],
      "text/html": "<div>\n<style scoped>\n    .dataframe tbody tr th:only-of-type {\n        vertical-align: middle;\n    }\n\n    .dataframe tbody tr th {\n        vertical-align: top;\n    }\n\n    .dataframe thead th {\n        text-align: right;\n    }\n</style>\n<table border=\"1\" class=\"dataframe\">\n  <thead>\n    <tr style=\"text-align: right;\">\n      <th></th>\n      <th>transaction_operation_id</th>\n      <th>transaction_id</th>\n      <th>status</th>\n      <th>type</th>\n      <th>acquirer_name</th>\n      <th>transaction_operation_created_at</th>\n    </tr>\n  </thead>\n  <tbody>\n    <tr>\n      <th>0</th>\n      <td>to_f0f0eb4612204c011a36</td>\n      <td>61723017cd</td>\n      <td>success</td>\n      <td>conciliate</td>\n      <td>pagarme</td>\n      <td>2020-09-10 08:21:58.688000000</td>\n    </tr>\n    <tr>\n      <th>1</th>\n      <td>to_90616a2952e1b998d84e</td>\n      <td>61723017cd</td>\n      <td>success</td>\n      <td>issue</td>\n      <td>pagarme</td>\n      <td>2020-09-09 17:56:12.878000000</td>\n    </tr>\n    <tr>\n      <th>2</th>\n      <td>to_682464879f7d921cdf3b</td>\n      <td>61723017cd</td>\n      <td>success</td>\n      <td>authorize</td>\n      <td>pagarme</td>\n      <td>2020-09-09 17:56:12.884000000</td>\n    </tr>\n    <tr>\n      <th>3</th>\n      <td>to_4ad8f4fc8b848452652c</td>\n      <td>f0e92c6d72</td>\n      <td>success</td>\n      <td>capture</td>\n      <td>acquirer_3</td>\n      <td>2020-09-09 17:57:57.881000000</td>\n    </tr>\n    <tr>\n      <th>4</th>\n      <td>to_4dfc38802d45cc3c5748</td>\n      <td>f0e92c6d72</td>\n      <td>success</td>\n      <td>capture</td>\n      <td>pagarme</td>\n      <td>2020-09-09 17:57:57.092000000</td>\n    </tr>\n    <tr>\n      <th>...</th>\n      <td>...</td>\n      <td>...</td>\n      <td>...</td>\n      <td>...</td>\n      <td>...</td>\n      <td>...</td>\n    </tr>\n    <tr>\n      <th>1920</th>\n      <td>to_746cae69f9c5a3189faf</td>\n      <td>d47239e070</td>\n      <td>success</td>\n      <td>authorize</td>\n      <td>acquirer_3</td>\n      <td>2020-09-09 17:59:52.169000000</td>\n    </tr>\n    <tr>\n      <th>1921</th>\n      <td>to_24505ac5d8b75351547d</td>\n      <td>30547a4201</td>\n      <td>success</td>\n      <td>authorize</td>\n      <td>pagarme</td>\n      <td>2020-09-09 17:58:30.426000000</td>\n    </tr>\n    <tr>\n      <th>1922</th>\n      <td>to_4493f93b9f2fd6071847</td>\n      <td>30547a4201</td>\n      <td>success</td>\n      <td>authorize</td>\n      <td>acquirer_3</td>\n      <td>2020-09-09 17:58:30.545000000</td>\n    </tr>\n    <tr>\n      <th>1923</th>\n      <td>to_8f7d4b2b129b50a72954</td>\n      <td>5f9c73321d</td>\n      <td>success</td>\n      <td>issue</td>\n      <td>pagarme</td>\n      <td>2020-09-09 17:59:14.176000000</td>\n    </tr>\n    <tr>\n      <th>1924</th>\n      <td>to_1b1c1863f269f084ffab</td>\n      <td>5f9c73321d</td>\n      <td>success</td>\n      <td>authorize</td>\n      <td>pagarme</td>\n      <td>2020-09-09 17:59:14.183000000</td>\n    </tr>\n  </tbody>\n</table>\n<p>1925 rows × 6 columns</p>\n</div>"
     },
     "metadata": {},
     "execution_count": 23
    }
   ],
   "source": [
    "transaction = pd.read_csv('data\\\\TransactionOperations.csv')\n",
    "transaction"
   ]
  },
  {
   "cell_type": "code",
   "execution_count": 24,
   "metadata": {},
   "outputs": [
    {
     "output_type": "execute_result",
     "data": {
      "text/plain": [
       "        payable_id transaction_id          payable_created_at  \\\n",
       "0     7c8107b3b9c9     244764d5ed  2020-09-09 17:46:59.630000   \n",
       "1     fbd3d5f2794a     244764d5ed  2020-09-09 21:01:49.526000   \n",
       "2     99935863b190     89482135fc  2020-09-10 08:21:58.585000   \n",
       "3     5c5792966570     70c5db7dec  2020-09-10 08:21:56.084000   \n",
       "4     a448d3bc6324     b9cfb76e60  2020-09-09 18:00:09.771000   \n",
       "...            ...            ...                         ...   \n",
       "1063  ab773c4877ed     228637d0b4  2020-09-14 16:53:35.999000   \n",
       "1064  0fc3d1cb2055     1c8adc3d2e  2020-09-12 07:04:47.732000   \n",
       "1065  a419f9ba7ab9     3a97b29e2a  2020-09-10 08:07:19.399000   \n",
       "1066  fab61ced56ab     7e246d5f76  2020-09-11 06:22:44.583000   \n",
       "1067  8410c47f28c9     c48684382d  2020-09-10 08:21:54.926000   \n",
       "\n",
       "           company_id  amount   fee  installment    type        recipient_id  \\\n",
       "0     b55bcdbb034df22     197     5          1.0  credit  re_c4bbb14ad4899b4   \n",
       "1     b55bcdbb034df22    -197    -5          NaN  refund  re_c4bbb14ad4899b4   \n",
       "2     5911ce37cc72d08   18700   350          NaN  credit  re_e98e1078b003f57   \n",
       "3     7a84b2e791d5e40   49980   380          NaN  credit  re_797abd9f04ca428   \n",
       "4     ea08e18846a1402    6396   223          1.0  credit  re_4129768d1be199f   \n",
       "...               ...     ...   ...          ...     ...                 ...   \n",
       "1063  72b3544d6623b87  -44754 -1629          NaN  refund  re_32f10b0288875d5   \n",
       "1064  713b27c08bd57f8    9901   280          NaN  credit  re_30b25d8ac601285   \n",
       "1065  5caba9f1488941b   35400   129          NaN  credit  re_23b072ab5441389   \n",
       "1066  80bab11368e2021   21688   290          NaN  credit  re_e17d6002b2b5ad5   \n",
       "1067  546cdbf9433d436   12349   280          NaN  credit  re_b29545f412baff9   \n",
       "\n",
       "     payment_method  \n",
       "0       credit_card  \n",
       "1       credit_card  \n",
       "2            boleto  \n",
       "3            boleto  \n",
       "4       credit_card  \n",
       "...             ...  \n",
       "1063    credit_card  \n",
       "1064         boleto  \n",
       "1065         boleto  \n",
       "1066         boleto  \n",
       "1067         boleto  \n",
       "\n",
       "[1068 rows x 10 columns]"
      ],
      "text/html": "<div>\n<style scoped>\n    .dataframe tbody tr th:only-of-type {\n        vertical-align: middle;\n    }\n\n    .dataframe tbody tr th {\n        vertical-align: top;\n    }\n\n    .dataframe thead th {\n        text-align: right;\n    }\n</style>\n<table border=\"1\" class=\"dataframe\">\n  <thead>\n    <tr style=\"text-align: right;\">\n      <th></th>\n      <th>payable_id</th>\n      <th>transaction_id</th>\n      <th>payable_created_at</th>\n      <th>company_id</th>\n      <th>amount</th>\n      <th>fee</th>\n      <th>installment</th>\n      <th>type</th>\n      <th>recipient_id</th>\n      <th>payment_method</th>\n    </tr>\n  </thead>\n  <tbody>\n    <tr>\n      <th>0</th>\n      <td>7c8107b3b9c9</td>\n      <td>244764d5ed</td>\n      <td>2020-09-09 17:46:59.630000</td>\n      <td>b55bcdbb034df22</td>\n      <td>197</td>\n      <td>5</td>\n      <td>1.0</td>\n      <td>credit</td>\n      <td>re_c4bbb14ad4899b4</td>\n      <td>credit_card</td>\n    </tr>\n    <tr>\n      <th>1</th>\n      <td>fbd3d5f2794a</td>\n      <td>244764d5ed</td>\n      <td>2020-09-09 21:01:49.526000</td>\n      <td>b55bcdbb034df22</td>\n      <td>-197</td>\n      <td>-5</td>\n      <td>NaN</td>\n      <td>refund</td>\n      <td>re_c4bbb14ad4899b4</td>\n      <td>credit_card</td>\n    </tr>\n    <tr>\n      <th>2</th>\n      <td>99935863b190</td>\n      <td>89482135fc</td>\n      <td>2020-09-10 08:21:58.585000</td>\n      <td>5911ce37cc72d08</td>\n      <td>18700</td>\n      <td>350</td>\n      <td>NaN</td>\n      <td>credit</td>\n      <td>re_e98e1078b003f57</td>\n      <td>boleto</td>\n    </tr>\n    <tr>\n      <th>3</th>\n      <td>5c5792966570</td>\n      <td>70c5db7dec</td>\n      <td>2020-09-10 08:21:56.084000</td>\n      <td>7a84b2e791d5e40</td>\n      <td>49980</td>\n      <td>380</td>\n      <td>NaN</td>\n      <td>credit</td>\n      <td>re_797abd9f04ca428</td>\n      <td>boleto</td>\n    </tr>\n    <tr>\n      <th>4</th>\n      <td>a448d3bc6324</td>\n      <td>b9cfb76e60</td>\n      <td>2020-09-09 18:00:09.771000</td>\n      <td>ea08e18846a1402</td>\n      <td>6396</td>\n      <td>223</td>\n      <td>1.0</td>\n      <td>credit</td>\n      <td>re_4129768d1be199f</td>\n      <td>credit_card</td>\n    </tr>\n    <tr>\n      <th>...</th>\n      <td>...</td>\n      <td>...</td>\n      <td>...</td>\n      <td>...</td>\n      <td>...</td>\n      <td>...</td>\n      <td>...</td>\n      <td>...</td>\n      <td>...</td>\n      <td>...</td>\n    </tr>\n    <tr>\n      <th>1063</th>\n      <td>ab773c4877ed</td>\n      <td>228637d0b4</td>\n      <td>2020-09-14 16:53:35.999000</td>\n      <td>72b3544d6623b87</td>\n      <td>-44754</td>\n      <td>-1629</td>\n      <td>NaN</td>\n      <td>refund</td>\n      <td>re_32f10b0288875d5</td>\n      <td>credit_card</td>\n    </tr>\n    <tr>\n      <th>1064</th>\n      <td>0fc3d1cb2055</td>\n      <td>1c8adc3d2e</td>\n      <td>2020-09-12 07:04:47.732000</td>\n      <td>713b27c08bd57f8</td>\n      <td>9901</td>\n      <td>280</td>\n      <td>NaN</td>\n      <td>credit</td>\n      <td>re_30b25d8ac601285</td>\n      <td>boleto</td>\n    </tr>\n    <tr>\n      <th>1065</th>\n      <td>a419f9ba7ab9</td>\n      <td>3a97b29e2a</td>\n      <td>2020-09-10 08:07:19.399000</td>\n      <td>5caba9f1488941b</td>\n      <td>35400</td>\n      <td>129</td>\n      <td>NaN</td>\n      <td>credit</td>\n      <td>re_23b072ab5441389</td>\n      <td>boleto</td>\n    </tr>\n    <tr>\n      <th>1066</th>\n      <td>fab61ced56ab</td>\n      <td>7e246d5f76</td>\n      <td>2020-09-11 06:22:44.583000</td>\n      <td>80bab11368e2021</td>\n      <td>21688</td>\n      <td>290</td>\n      <td>NaN</td>\n      <td>credit</td>\n      <td>re_e17d6002b2b5ad5</td>\n      <td>boleto</td>\n    </tr>\n    <tr>\n      <th>1067</th>\n      <td>8410c47f28c9</td>\n      <td>c48684382d</td>\n      <td>2020-09-10 08:21:54.926000</td>\n      <td>546cdbf9433d436</td>\n      <td>12349</td>\n      <td>280</td>\n      <td>NaN</td>\n      <td>credit</td>\n      <td>re_b29545f412baff9</td>\n      <td>boleto</td>\n    </tr>\n  </tbody>\n</table>\n<p>1068 rows × 10 columns</p>\n</div>"
     },
     "metadata": {},
     "execution_count": 24
    }
   ],
   "source": [
    "transaction = pd.read_csv('data\\\\Payables.csv')\n",
    "transaction"
   ]
  },
  {
   "cell_type": "code",
   "execution_count": null,
   "metadata": {},
   "outputs": [],
   "source": []
  }
 ]
}