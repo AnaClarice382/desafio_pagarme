{
 "metadata": {
  "language_info": {
   "codemirror_mode": {
    "name": "ipython",
    "version": 3
   },
   "file_extension": ".py",
   "mimetype": "text/x-python",
   "name": "python",
   "nbconvert_exporter": "python",
   "pygments_lexer": "ipython3",
   "version": "3.8.4-final"
  },
  "orig_nbformat": 2,
  "kernelspec": {
   "name": "python3",
   "display_name": "Python 3.8.4 32-bit",
   "metadata": {
    "interpreter": {
     "hash": "a91775be6d7f408d0d5f909be844b009446185a0590b986db5400233d5b26618"
    }
   }
  }
 },
 "nbformat": 4,
 "nbformat_minor": 2,
 "cells": [
  {
   "cell_type": "code",
   "execution_count": 157,
   "metadata": {},
   "outputs": [],
   "source": [
    "import pandas as pd"
   ]
  },
  {
   "cell_type": "code",
   "execution_count": 158,
   "metadata": {},
   "outputs": [
    {
     "output_type": "error",
     "ename": "FileNotFoundError",
     "evalue": "[Errno 2] No such file or directory: 'data\\\\Companies.csv'",
     "traceback": [
      "\u001b[1;31m---------------------------------------------------------------------------\u001b[0m",
      "\u001b[1;31mFileNotFoundError\u001b[0m                         Traceback (most recent call last)",
      "\u001b[1;32m<ipython-input-158-b4854c0f8d7b>\u001b[0m in \u001b[0;36m<module>\u001b[1;34m\u001b[0m\n\u001b[1;32m----> 1\u001b[1;33m \u001b[0mdf\u001b[0m \u001b[1;33m=\u001b[0m \u001b[0mpd\u001b[0m\u001b[1;33m.\u001b[0m\u001b[0mread_csv\u001b[0m\u001b[1;33m(\u001b[0m\u001b[1;34m'data\\Companies.csv'\u001b[0m\u001b[1;33m)\u001b[0m\u001b[1;33m\u001b[0m\u001b[1;33m\u001b[0m\u001b[0m\n\u001b[0m\u001b[0;32m      2\u001b[0m \u001b[0mdf\u001b[0m\u001b[1;33m[\u001b[0m\u001b[1;33m(\u001b[0m\u001b[0mdf\u001b[0m\u001b[1;33m[\u001b[0m\u001b[1;34m'company_id'\u001b[0m\u001b[1;33m]\u001b[0m \u001b[1;33m==\u001b[0m \u001b[1;34m'67c2d7c22cae393'\u001b[0m\u001b[1;33m)\u001b[0m\u001b[1;33m]\u001b[0m\u001b[1;33m\u001b[0m\u001b[1;33m\u001b[0m\u001b[0m\n\u001b[0;32m      3\u001b[0m \u001b[1;33m\u001b[0m\u001b[0m\n\u001b[0;32m      4\u001b[0m \u001b[0mdf\u001b[0m\u001b[1;33m[\u001b[0m\u001b[1;34m'company_id'\u001b[0m\u001b[1;33m]\u001b[0m\u001b[1;33m.\u001b[0m\u001b[0munique\u001b[0m\u001b[1;33m\u001b[0m\u001b[1;33m\u001b[0m\u001b[0m\n",
      "\u001b[1;32m~\\AppData\\Local\\Programs\\Python\\Python38-32\\lib\\site-packages\\pandas\\io\\parsers.py\u001b[0m in \u001b[0;36mread_csv\u001b[1;34m(filepath_or_buffer, sep, delimiter, header, names, index_col, usecols, squeeze, prefix, mangle_dupe_cols, dtype, engine, converters, true_values, false_values, skipinitialspace, skiprows, skipfooter, nrows, na_values, keep_default_na, na_filter, verbose, skip_blank_lines, parse_dates, infer_datetime_format, keep_date_col, date_parser, dayfirst, cache_dates, iterator, chunksize, compression, thousands, decimal, lineterminator, quotechar, quoting, doublequote, escapechar, comment, encoding, dialect, error_bad_lines, warn_bad_lines, delim_whitespace, low_memory, memory_map, float_precision, storage_options)\u001b[0m\n\u001b[0;32m    608\u001b[0m     \u001b[0mkwds\u001b[0m\u001b[1;33m.\u001b[0m\u001b[0mupdate\u001b[0m\u001b[1;33m(\u001b[0m\u001b[0mkwds_defaults\u001b[0m\u001b[1;33m)\u001b[0m\u001b[1;33m\u001b[0m\u001b[1;33m\u001b[0m\u001b[0m\n\u001b[0;32m    609\u001b[0m \u001b[1;33m\u001b[0m\u001b[0m\n\u001b[1;32m--> 610\u001b[1;33m     \u001b[1;32mreturn\u001b[0m \u001b[0m_read\u001b[0m\u001b[1;33m(\u001b[0m\u001b[0mfilepath_or_buffer\u001b[0m\u001b[1;33m,\u001b[0m \u001b[0mkwds\u001b[0m\u001b[1;33m)\u001b[0m\u001b[1;33m\u001b[0m\u001b[1;33m\u001b[0m\u001b[0m\n\u001b[0m\u001b[0;32m    611\u001b[0m \u001b[1;33m\u001b[0m\u001b[0m\n\u001b[0;32m    612\u001b[0m \u001b[1;33m\u001b[0m\u001b[0m\n",
      "\u001b[1;32m~\\AppData\\Local\\Programs\\Python\\Python38-32\\lib\\site-packages\\pandas\\io\\parsers.py\u001b[0m in \u001b[0;36m_read\u001b[1;34m(filepath_or_buffer, kwds)\u001b[0m\n\u001b[0;32m    460\u001b[0m \u001b[1;33m\u001b[0m\u001b[0m\n\u001b[0;32m    461\u001b[0m     \u001b[1;31m# Create the parser.\u001b[0m\u001b[1;33m\u001b[0m\u001b[1;33m\u001b[0m\u001b[1;33m\u001b[0m\u001b[0m\n\u001b[1;32m--> 462\u001b[1;33m     \u001b[0mparser\u001b[0m \u001b[1;33m=\u001b[0m \u001b[0mTextFileReader\u001b[0m\u001b[1;33m(\u001b[0m\u001b[0mfilepath_or_buffer\u001b[0m\u001b[1;33m,\u001b[0m \u001b[1;33m**\u001b[0m\u001b[0mkwds\u001b[0m\u001b[1;33m)\u001b[0m\u001b[1;33m\u001b[0m\u001b[1;33m\u001b[0m\u001b[0m\n\u001b[0m\u001b[0;32m    463\u001b[0m \u001b[1;33m\u001b[0m\u001b[0m\n\u001b[0;32m    464\u001b[0m     \u001b[1;32mif\u001b[0m \u001b[0mchunksize\u001b[0m \u001b[1;32mor\u001b[0m \u001b[0miterator\u001b[0m\u001b[1;33m:\u001b[0m\u001b[1;33m\u001b[0m\u001b[1;33m\u001b[0m\u001b[0m\n",
      "\u001b[1;32m~\\AppData\\Local\\Programs\\Python\\Python38-32\\lib\\site-packages\\pandas\\io\\parsers.py\u001b[0m in \u001b[0;36m__init__\u001b[1;34m(self, f, engine, **kwds)\u001b[0m\n\u001b[0;32m    817\u001b[0m             \u001b[0mself\u001b[0m\u001b[1;33m.\u001b[0m\u001b[0moptions\u001b[0m\u001b[1;33m[\u001b[0m\u001b[1;34m\"has_index_names\"\u001b[0m\u001b[1;33m]\u001b[0m \u001b[1;33m=\u001b[0m \u001b[0mkwds\u001b[0m\u001b[1;33m[\u001b[0m\u001b[1;34m\"has_index_names\"\u001b[0m\u001b[1;33m]\u001b[0m\u001b[1;33m\u001b[0m\u001b[1;33m\u001b[0m\u001b[0m\n\u001b[0;32m    818\u001b[0m \u001b[1;33m\u001b[0m\u001b[0m\n\u001b[1;32m--> 819\u001b[1;33m         \u001b[0mself\u001b[0m\u001b[1;33m.\u001b[0m\u001b[0m_engine\u001b[0m \u001b[1;33m=\u001b[0m \u001b[0mself\u001b[0m\u001b[1;33m.\u001b[0m\u001b[0m_make_engine\u001b[0m\u001b[1;33m(\u001b[0m\u001b[0mself\u001b[0m\u001b[1;33m.\u001b[0m\u001b[0mengine\u001b[0m\u001b[1;33m)\u001b[0m\u001b[1;33m\u001b[0m\u001b[1;33m\u001b[0m\u001b[0m\n\u001b[0m\u001b[0;32m    820\u001b[0m \u001b[1;33m\u001b[0m\u001b[0m\n\u001b[0;32m    821\u001b[0m     \u001b[1;32mdef\u001b[0m \u001b[0mclose\u001b[0m\u001b[1;33m(\u001b[0m\u001b[0mself\u001b[0m\u001b[1;33m)\u001b[0m\u001b[1;33m:\u001b[0m\u001b[1;33m\u001b[0m\u001b[1;33m\u001b[0m\u001b[0m\n",
      "\u001b[1;32m~\\AppData\\Local\\Programs\\Python\\Python38-32\\lib\\site-packages\\pandas\\io\\parsers.py\u001b[0m in \u001b[0;36m_make_engine\u001b[1;34m(self, engine)\u001b[0m\n\u001b[0;32m   1048\u001b[0m             )\n\u001b[0;32m   1049\u001b[0m         \u001b[1;31m# error: Too many arguments for \"ParserBase\"\u001b[0m\u001b[1;33m\u001b[0m\u001b[1;33m\u001b[0m\u001b[1;33m\u001b[0m\u001b[0m\n\u001b[1;32m-> 1050\u001b[1;33m         \u001b[1;32mreturn\u001b[0m \u001b[0mmapping\u001b[0m\u001b[1;33m[\u001b[0m\u001b[0mengine\u001b[0m\u001b[1;33m]\u001b[0m\u001b[1;33m(\u001b[0m\u001b[0mself\u001b[0m\u001b[1;33m.\u001b[0m\u001b[0mf\u001b[0m\u001b[1;33m,\u001b[0m \u001b[1;33m**\u001b[0m\u001b[0mself\u001b[0m\u001b[1;33m.\u001b[0m\u001b[0moptions\u001b[0m\u001b[1;33m)\u001b[0m  \u001b[1;31m# type: ignore[call-arg]\u001b[0m\u001b[1;33m\u001b[0m\u001b[1;33m\u001b[0m\u001b[0m\n\u001b[0m\u001b[0;32m   1051\u001b[0m \u001b[1;33m\u001b[0m\u001b[0m\n\u001b[0;32m   1052\u001b[0m     \u001b[1;32mdef\u001b[0m \u001b[0m_failover_to_python\u001b[0m\u001b[1;33m(\u001b[0m\u001b[0mself\u001b[0m\u001b[1;33m)\u001b[0m\u001b[1;33m:\u001b[0m\u001b[1;33m\u001b[0m\u001b[1;33m\u001b[0m\u001b[0m\n",
      "\u001b[1;32m~\\AppData\\Local\\Programs\\Python\\Python38-32\\lib\\site-packages\\pandas\\io\\parsers.py\u001b[0m in \u001b[0;36m__init__\u001b[1;34m(self, src, **kwds)\u001b[0m\n\u001b[0;32m   1865\u001b[0m \u001b[1;33m\u001b[0m\u001b[0m\n\u001b[0;32m   1866\u001b[0m         \u001b[1;31m# open handles\u001b[0m\u001b[1;33m\u001b[0m\u001b[1;33m\u001b[0m\u001b[1;33m\u001b[0m\u001b[0m\n\u001b[1;32m-> 1867\u001b[1;33m         \u001b[0mself\u001b[0m\u001b[1;33m.\u001b[0m\u001b[0m_open_handles\u001b[0m\u001b[1;33m(\u001b[0m\u001b[0msrc\u001b[0m\u001b[1;33m,\u001b[0m \u001b[0mkwds\u001b[0m\u001b[1;33m)\u001b[0m\u001b[1;33m\u001b[0m\u001b[1;33m\u001b[0m\u001b[0m\n\u001b[0m\u001b[0;32m   1868\u001b[0m         \u001b[1;32massert\u001b[0m \u001b[0mself\u001b[0m\u001b[1;33m.\u001b[0m\u001b[0mhandles\u001b[0m \u001b[1;32mis\u001b[0m \u001b[1;32mnot\u001b[0m \u001b[1;32mNone\u001b[0m\u001b[1;33m\u001b[0m\u001b[1;33m\u001b[0m\u001b[0m\n\u001b[0;32m   1869\u001b[0m         \u001b[1;32mfor\u001b[0m \u001b[0mkey\u001b[0m \u001b[1;32min\u001b[0m \u001b[1;33m(\u001b[0m\u001b[1;34m\"storage_options\"\u001b[0m\u001b[1;33m,\u001b[0m \u001b[1;34m\"encoding\"\u001b[0m\u001b[1;33m,\u001b[0m \u001b[1;34m\"memory_map\"\u001b[0m\u001b[1;33m,\u001b[0m \u001b[1;34m\"compression\"\u001b[0m\u001b[1;33m)\u001b[0m\u001b[1;33m:\u001b[0m\u001b[1;33m\u001b[0m\u001b[1;33m\u001b[0m\u001b[0m\n",
      "\u001b[1;32m~\\AppData\\Local\\Programs\\Python\\Python38-32\\lib\\site-packages\\pandas\\io\\parsers.py\u001b[0m in \u001b[0;36m_open_handles\u001b[1;34m(self, src, kwds)\u001b[0m\n\u001b[0;32m   1360\u001b[0m         \u001b[0mLet\u001b[0m \u001b[0mthe\u001b[0m \u001b[0mreaders\u001b[0m \u001b[0mopen\u001b[0m \u001b[0mIOHanldes\u001b[0m \u001b[0mafter\u001b[0m \u001b[0mthey\u001b[0m \u001b[0mare\u001b[0m \u001b[0mdone\u001b[0m \u001b[1;32mwith\u001b[0m \u001b[0mtheir\u001b[0m \u001b[0mpotential\u001b[0m \u001b[0mraises\u001b[0m\u001b[1;33m.\u001b[0m\u001b[1;33m\u001b[0m\u001b[1;33m\u001b[0m\u001b[0m\n\u001b[0;32m   1361\u001b[0m         \"\"\"\n\u001b[1;32m-> 1362\u001b[1;33m         self.handles = get_handle(\n\u001b[0m\u001b[0;32m   1363\u001b[0m             \u001b[0msrc\u001b[0m\u001b[1;33m,\u001b[0m\u001b[1;33m\u001b[0m\u001b[1;33m\u001b[0m\u001b[0m\n\u001b[0;32m   1364\u001b[0m             \u001b[1;34m\"r\"\u001b[0m\u001b[1;33m,\u001b[0m\u001b[1;33m\u001b[0m\u001b[1;33m\u001b[0m\u001b[0m\n",
      "\u001b[1;32m~\\AppData\\Local\\Programs\\Python\\Python38-32\\lib\\site-packages\\pandas\\io\\common.py\u001b[0m in \u001b[0;36mget_handle\u001b[1;34m(path_or_buf, mode, encoding, compression, memory_map, is_text, errors, storage_options)\u001b[0m\n\u001b[0;32m    640\u001b[0m                 \u001b[0merrors\u001b[0m \u001b[1;33m=\u001b[0m \u001b[1;34m\"replace\"\u001b[0m\u001b[1;33m\u001b[0m\u001b[1;33m\u001b[0m\u001b[0m\n\u001b[0;32m    641\u001b[0m             \u001b[1;31m# Encoding\u001b[0m\u001b[1;33m\u001b[0m\u001b[1;33m\u001b[0m\u001b[1;33m\u001b[0m\u001b[0m\n\u001b[1;32m--> 642\u001b[1;33m             handle = open(\n\u001b[0m\u001b[0;32m    643\u001b[0m                 \u001b[0mhandle\u001b[0m\u001b[1;33m,\u001b[0m\u001b[1;33m\u001b[0m\u001b[1;33m\u001b[0m\u001b[0m\n\u001b[0;32m    644\u001b[0m                 \u001b[0mioargs\u001b[0m\u001b[1;33m.\u001b[0m\u001b[0mmode\u001b[0m\u001b[1;33m,\u001b[0m\u001b[1;33m\u001b[0m\u001b[1;33m\u001b[0m\u001b[0m\n",
      "\u001b[1;31mFileNotFoundError\u001b[0m: [Errno 2] No such file or directory: 'data\\\\Companies.csv'"
     ]
    }
   ],
   "source": [
    "df = pd.read_csv('data\\Companies.csv')\n",
    "df[(df['company_id'] == '67c2d7c22cae393')]\n",
    "\n",
    "df['company_id'].unique"
   ]
  },
  {
   "cell_type": "code",
   "execution_count": 5,
   "metadata": {},
   "outputs": [
    {
     "output_type": "execute_result",
     "data": {
      "text/plain": [
       "company_id             object\n",
       "company_created_at     object\n",
       "company_mcc           float64\n",
       "company_type           object\n",
       "dtype: object"
      ]
     },
     "metadata": {},
     "execution_count": 5
    }
   ],
   "source": [
    "df.dtypes"
   ]
  },
  {
   "cell_type": "code",
   "execution_count": 96,
   "metadata": {},
   "outputs": [
    {
     "output_type": "execute_result",
     "data": {
      "text/plain": [
       "    transaction_id      transaction_created_at      transaction_updated_at  \\\n",
       "0       9009ab2a35  2020-09-09 12:28:41.195000  2020-09-09 12:28:42.451000   \n",
       "1       ff5e9dbc52  2020-09-09 12:58:49.905000  2020-09-09 12:58:51.636000   \n",
       "2       c0cb6760a2  2020-09-09 12:59:23.530000  2020-09-09 12:59:25.458000   \n",
       "3       071ba130dd  2020-09-09 13:10:18.098000  2020-09-09 13:10:19.918000   \n",
       "4       c2cafaf5a7  2020-09-09 13:54:21.852000  2020-09-09 13:54:23.990000   \n",
       "..             ...                         ...                         ...   \n",
       "526     b610115776  2020-09-09 17:59:58.858000  2020-09-09 18:14:09.932000   \n",
       "527     ced0b64b1f  2020-09-09 17:59:59.077000  2020-09-09 18:22:03.489000   \n",
       "528     ffa5688295  2020-09-09 17:59:59.184000  2020-09-09 18:00:00.377000   \n",
       "529     c15f59ca79  2020-09-09 17:59:59.645000  2020-09-09 18:00:01.424000   \n",
       "530     0c4061a69d  2020-09-09 17:59:59.778000  2020-09-09 18:00:10.259000   \n",
       "\n",
       "    acquirer_name       company_id  transaction_installments  amount  \\\n",
       "0         pagarme  707f3fa3d265b9e                         3   34300   \n",
       "1         pagarme  a1c2f57e42dd0b9                         5   49990   \n",
       "2         pagarme  707f3fa3d265b9e                         1    8000   \n",
       "3         pagarme  a1c2f57e42dd0b9                         3   59980   \n",
       "4         pagarme  a1c2f57e42dd0b9                         7   39999   \n",
       "..            ...              ...                       ...     ...   \n",
       "526    acquirer_2  dc984ecf72ebcaa                         1    3500   \n",
       "527    acquirer_2  dc984ecf72ebcaa                         1   79532   \n",
       "528       pagarme  8e031d520c2b921                         1    7180   \n",
       "529       pagarme  efe7c1eaab861a5                         1   24290   \n",
       "530       pagarme  a9810f693ffb8e6                         4   41900   \n",
       "\n",
       "    payment_method  gateway_fee           status  \n",
       "0      credit_card          0.0             paid  \n",
       "1      credit_card         15.0             paid  \n",
       "2      credit_card          0.0             paid  \n",
       "3      credit_card         15.0             paid  \n",
       "4      credit_card         15.0             paid  \n",
       "..             ...          ...              ...  \n",
       "526    credit_card          0.0         refunded  \n",
       "527    credit_card         20.0             paid  \n",
       "528         boleto          0.0  waiting_payment  \n",
       "529    credit_card          0.0          refused  \n",
       "530    credit_card        100.0             paid  \n",
       "\n",
       "[531 rows x 10 columns]"
      ],
      "text/html": "<div>\n<style scoped>\n    .dataframe tbody tr th:only-of-type {\n        vertical-align: middle;\n    }\n\n    .dataframe tbody tr th {\n        vertical-align: top;\n    }\n\n    .dataframe thead th {\n        text-align: right;\n    }\n</style>\n<table border=\"1\" class=\"dataframe\">\n  <thead>\n    <tr style=\"text-align: right;\">\n      <th></th>\n      <th>transaction_id</th>\n      <th>transaction_created_at</th>\n      <th>transaction_updated_at</th>\n      <th>acquirer_name</th>\n      <th>company_id</th>\n      <th>transaction_installments</th>\n      <th>amount</th>\n      <th>payment_method</th>\n      <th>gateway_fee</th>\n      <th>status</th>\n    </tr>\n  </thead>\n  <tbody>\n    <tr>\n      <th>0</th>\n      <td>9009ab2a35</td>\n      <td>2020-09-09 12:28:41.195000</td>\n      <td>2020-09-09 12:28:42.451000</td>\n      <td>pagarme</td>\n      <td>707f3fa3d265b9e</td>\n      <td>3</td>\n      <td>34300</td>\n      <td>credit_card</td>\n      <td>0.0</td>\n      <td>paid</td>\n    </tr>\n    <tr>\n      <th>1</th>\n      <td>ff5e9dbc52</td>\n      <td>2020-09-09 12:58:49.905000</td>\n      <td>2020-09-09 12:58:51.636000</td>\n      <td>pagarme</td>\n      <td>a1c2f57e42dd0b9</td>\n      <td>5</td>\n      <td>49990</td>\n      <td>credit_card</td>\n      <td>15.0</td>\n      <td>paid</td>\n    </tr>\n    <tr>\n      <th>2</th>\n      <td>c0cb6760a2</td>\n      <td>2020-09-09 12:59:23.530000</td>\n      <td>2020-09-09 12:59:25.458000</td>\n      <td>pagarme</td>\n      <td>707f3fa3d265b9e</td>\n      <td>1</td>\n      <td>8000</td>\n      <td>credit_card</td>\n      <td>0.0</td>\n      <td>paid</td>\n    </tr>\n    <tr>\n      <th>3</th>\n      <td>071ba130dd</td>\n      <td>2020-09-09 13:10:18.098000</td>\n      <td>2020-09-09 13:10:19.918000</td>\n      <td>pagarme</td>\n      <td>a1c2f57e42dd0b9</td>\n      <td>3</td>\n      <td>59980</td>\n      <td>credit_card</td>\n      <td>15.0</td>\n      <td>paid</td>\n    </tr>\n    <tr>\n      <th>4</th>\n      <td>c2cafaf5a7</td>\n      <td>2020-09-09 13:54:21.852000</td>\n      <td>2020-09-09 13:54:23.990000</td>\n      <td>pagarme</td>\n      <td>a1c2f57e42dd0b9</td>\n      <td>7</td>\n      <td>39999</td>\n      <td>credit_card</td>\n      <td>15.0</td>\n      <td>paid</td>\n    </tr>\n    <tr>\n      <th>...</th>\n      <td>...</td>\n      <td>...</td>\n      <td>...</td>\n      <td>...</td>\n      <td>...</td>\n      <td>...</td>\n      <td>...</td>\n      <td>...</td>\n      <td>...</td>\n      <td>...</td>\n    </tr>\n    <tr>\n      <th>526</th>\n      <td>b610115776</td>\n      <td>2020-09-09 17:59:58.858000</td>\n      <td>2020-09-09 18:14:09.932000</td>\n      <td>acquirer_2</td>\n      <td>dc984ecf72ebcaa</td>\n      <td>1</td>\n      <td>3500</td>\n      <td>credit_card</td>\n      <td>0.0</td>\n      <td>refunded</td>\n    </tr>\n    <tr>\n      <th>527</th>\n      <td>ced0b64b1f</td>\n      <td>2020-09-09 17:59:59.077000</td>\n      <td>2020-09-09 18:22:03.489000</td>\n      <td>acquirer_2</td>\n      <td>dc984ecf72ebcaa</td>\n      <td>1</td>\n      <td>79532</td>\n      <td>credit_card</td>\n      <td>20.0</td>\n      <td>paid</td>\n    </tr>\n    <tr>\n      <th>528</th>\n      <td>ffa5688295</td>\n      <td>2020-09-09 17:59:59.184000</td>\n      <td>2020-09-09 18:00:00.377000</td>\n      <td>pagarme</td>\n      <td>8e031d520c2b921</td>\n      <td>1</td>\n      <td>7180</td>\n      <td>boleto</td>\n      <td>0.0</td>\n      <td>waiting_payment</td>\n    </tr>\n    <tr>\n      <th>529</th>\n      <td>c15f59ca79</td>\n      <td>2020-09-09 17:59:59.645000</td>\n      <td>2020-09-09 18:00:01.424000</td>\n      <td>pagarme</td>\n      <td>efe7c1eaab861a5</td>\n      <td>1</td>\n      <td>24290</td>\n      <td>credit_card</td>\n      <td>0.0</td>\n      <td>refused</td>\n    </tr>\n    <tr>\n      <th>530</th>\n      <td>0c4061a69d</td>\n      <td>2020-09-09 17:59:59.778000</td>\n      <td>2020-09-09 18:00:10.259000</td>\n      <td>pagarme</td>\n      <td>a9810f693ffb8e6</td>\n      <td>4</td>\n      <td>41900</td>\n      <td>credit_card</td>\n      <td>100.0</td>\n      <td>paid</td>\n    </tr>\n  </tbody>\n</table>\n<p>531 rows × 10 columns</p>\n</div>"
     },
     "metadata": {},
     "execution_count": 96
    }
   ],
   "source": [
    "transaction = pd.read_csv('Transactions.csv')\n",
    "transaction\n",
    "\n",
    "#cols = ['transaction_id', 'acquirer_name', 'company_id', 'gateway_fee', 'payment_method', 'status', 'amount']\n",
    "transaction"
   ]
  },
  {
   "cell_type": "code",
   "execution_count": 27,
   "metadata": {},
   "outputs": [
    {
     "output_type": "execute_result",
     "data": {
      "text/plain": [
       "array(['pagarme', 'acquirer_2', 'acquirer_1', 'acquirer_3'], dtype=object)"
      ]
     },
     "metadata": {},
     "execution_count": 27
    }
   ],
   "source": [
    "transaction['acquirer_name'].unique()"
   ]
  },
  {
   "cell_type": "code",
   "execution_count": 154,
   "metadata": {},
   "outputs": [
    {
     "output_type": "execute_result",
     "data": {
      "text/plain": [
       "array(['capture', 'refund'], dtype=object)"
      ]
     },
     "metadata": {},
     "execution_count": 154
    }
   ],
   "source": [
    "TransactionOperations = pd.read_csv('TransactionOperations.csv')\n",
    "TransactionOperations\n",
    "\n",
    "TransactionOperations = TransactionOperations.loc[(TransactionOperations['type'] == 'refund') | (TransactionOperations['type'] == 'capture')]\n",
    "\n",
    "TransactionOperations['type'].unique()\n"
   ]
  },
  {
   "cell_type": "code",
   "execution_count": 155,
   "metadata": {},
   "outputs": [
    {
     "output_type": "stream",
     "name": "stdout",
     "text": [
      "    transaction_operation_id transaction_id   status     type acquirer_name  \\\n641  to_87e2c7daed4cbf30dd95     b9cfb76e60  success  capture    acquirer_3   \n642  to_5a53720d9836120ebd6d     b9cfb76e60  success  capture       pagarme   \n\n    transaction_operation_created_at  \n641    2020-09-09 18:00:09.692000000  \n642    2020-09-09 18:00:09.646000000  \nEmpty DataFrame\nColumns: [transaction_operation_id, transaction_id, status, type, acquirer_name, transaction_operation_created_at]\nIndex: []\n"
     ]
    }
   ],
   "source": [
    "psp = pd.read_csv('Payables.csv')\n",
    "psp = psp[psp['payment_method'] != 'boleto'] #só transacoes em cartão credito ou debito\n",
    "#print(psp['transaction_id'].unique)\n",
    "\n",
    "TransactionOperations = pd.read_csv('TransactionOperations.csv')\n",
    "TransactionOperations = TransactionOperations.loc[(TransactionOperations['type'] == 'refund') | (TransactionOperations['type'] == 'capture')]\n",
    "print(TransactionOperations[TransactionOperations['transaction_id'] == 'b9cfb76e60'])\n",
    "print(TransactionOperations[TransactionOperations['transaction_operation_id'] == '87e2c7daed4cbf30dd95'])\n",
    "\n",
    "transaction = pd.read_csv('Transactions.csv')\n",
    "transaction = transaction[transaction['payment_method'] != 'boleto'] #só transacoes em cartão credito ou debito\n",
    "#print(transaction['transaction_id'])\n",
    "\n",
    "#FOI UMA DEPOIS DA OUTRA - VERIFICAR COMO FAZER PARA DEIXAR TODAS AS TRANSACOES NA MESMA TABELA"
   ]
  },
  {
   "cell_type": "code",
   "execution_count": 156,
   "metadata": {},
   "outputs": [],
   "source": [
    "cols = ['transaction_id', 'company_id', 'fee' , 'amount', 'installment', 'payment_method','type']"
   ]
  },
  {
   "cell_type": "code",
   "execution_count": 112,
   "metadata": {},
   "outputs": [
    {
     "output_type": "execute_result",
     "data": {
      "text/plain": [
       "     transaction_operation_id transaction_id   status        type  \\\n",
       "0     to_f0f0eb4612204c011a36     61723017cd  success  conciliate   \n",
       "1     to_90616a2952e1b998d84e     61723017cd  success       issue   \n",
       "2     to_682464879f7d921cdf3b     61723017cd  success   authorize   \n",
       "3     to_4ad8f4fc8b848452652c     f0e92c6d72  success     capture   \n",
       "4     to_4dfc38802d45cc3c5748     f0e92c6d72  success     capture   \n",
       "...                       ...            ...      ...         ...   \n",
       "1920  to_746cae69f9c5a3189faf     d47239e070  success   authorize   \n",
       "1921  to_24505ac5d8b75351547d     30547a4201  success   authorize   \n",
       "1922  to_4493f93b9f2fd6071847     30547a4201  success   authorize   \n",
       "1923  to_8f7d4b2b129b50a72954     5f9c73321d  success       issue   \n",
       "1924  to_1b1c1863f269f084ffab     5f9c73321d  success   authorize   \n",
       "\n",
       "     acquirer_name transaction_operation_created_at  \n",
       "0          pagarme    2020-09-10 08:21:58.688000000  \n",
       "1          pagarme    2020-09-09 17:56:12.878000000  \n",
       "2          pagarme    2020-09-09 17:56:12.884000000  \n",
       "3       acquirer_3    2020-09-09 17:57:57.881000000  \n",
       "4          pagarme    2020-09-09 17:57:57.092000000  \n",
       "...            ...                              ...  \n",
       "1920    acquirer_3    2020-09-09 17:59:52.169000000  \n",
       "1921       pagarme    2020-09-09 17:58:30.426000000  \n",
       "1922    acquirer_3    2020-09-09 17:58:30.545000000  \n",
       "1923       pagarme    2020-09-09 17:59:14.176000000  \n",
       "1924       pagarme    2020-09-09 17:59:14.183000000  \n",
       "\n",
       "[1925 rows x 6 columns]"
      ],
      "text/html": "<div>\n<style scoped>\n    .dataframe tbody tr th:only-of-type {\n        vertical-align: middle;\n    }\n\n    .dataframe tbody tr th {\n        vertical-align: top;\n    }\n\n    .dataframe thead th {\n        text-align: right;\n    }\n</style>\n<table border=\"1\" class=\"dataframe\">\n  <thead>\n    <tr style=\"text-align: right;\">\n      <th></th>\n      <th>transaction_operation_id</th>\n      <th>transaction_id</th>\n      <th>status</th>\n      <th>type</th>\n      <th>acquirer_name</th>\n      <th>transaction_operation_created_at</th>\n    </tr>\n  </thead>\n  <tbody>\n    <tr>\n      <th>0</th>\n      <td>to_f0f0eb4612204c011a36</td>\n      <td>61723017cd</td>\n      <td>success</td>\n      <td>conciliate</td>\n      <td>pagarme</td>\n      <td>2020-09-10 08:21:58.688000000</td>\n    </tr>\n    <tr>\n      <th>1</th>\n      <td>to_90616a2952e1b998d84e</td>\n      <td>61723017cd</td>\n      <td>success</td>\n      <td>issue</td>\n      <td>pagarme</td>\n      <td>2020-09-09 17:56:12.878000000</td>\n    </tr>\n    <tr>\n      <th>2</th>\n      <td>to_682464879f7d921cdf3b</td>\n      <td>61723017cd</td>\n      <td>success</td>\n      <td>authorize</td>\n      <td>pagarme</td>\n      <td>2020-09-09 17:56:12.884000000</td>\n    </tr>\n    <tr>\n      <th>3</th>\n      <td>to_4ad8f4fc8b848452652c</td>\n      <td>f0e92c6d72</td>\n      <td>success</td>\n      <td>capture</td>\n      <td>acquirer_3</td>\n      <td>2020-09-09 17:57:57.881000000</td>\n    </tr>\n    <tr>\n      <th>4</th>\n      <td>to_4dfc38802d45cc3c5748</td>\n      <td>f0e92c6d72</td>\n      <td>success</td>\n      <td>capture</td>\n      <td>pagarme</td>\n      <td>2020-09-09 17:57:57.092000000</td>\n    </tr>\n    <tr>\n      <th>...</th>\n      <td>...</td>\n      <td>...</td>\n      <td>...</td>\n      <td>...</td>\n      <td>...</td>\n      <td>...</td>\n    </tr>\n    <tr>\n      <th>1920</th>\n      <td>to_746cae69f9c5a3189faf</td>\n      <td>d47239e070</td>\n      <td>success</td>\n      <td>authorize</td>\n      <td>acquirer_3</td>\n      <td>2020-09-09 17:59:52.169000000</td>\n    </tr>\n    <tr>\n      <th>1921</th>\n      <td>to_24505ac5d8b75351547d</td>\n      <td>30547a4201</td>\n      <td>success</td>\n      <td>authorize</td>\n      <td>pagarme</td>\n      <td>2020-09-09 17:58:30.426000000</td>\n    </tr>\n    <tr>\n      <th>1922</th>\n      <td>to_4493f93b9f2fd6071847</td>\n      <td>30547a4201</td>\n      <td>success</td>\n      <td>authorize</td>\n      <td>acquirer_3</td>\n      <td>2020-09-09 17:58:30.545000000</td>\n    </tr>\n    <tr>\n      <th>1923</th>\n      <td>to_8f7d4b2b129b50a72954</td>\n      <td>5f9c73321d</td>\n      <td>success</td>\n      <td>issue</td>\n      <td>pagarme</td>\n      <td>2020-09-09 17:59:14.176000000</td>\n    </tr>\n    <tr>\n      <th>1924</th>\n      <td>to_1b1c1863f269f084ffab</td>\n      <td>5f9c73321d</td>\n      <td>success</td>\n      <td>authorize</td>\n      <td>pagarme</td>\n      <td>2020-09-09 17:59:14.183000000</td>\n    </tr>\n  </tbody>\n</table>\n<p>1925 rows × 6 columns</p>\n</div>"
     },
     "metadata": {},
     "execution_count": 112
    }
   ],
   "source": []
  },
  {
   "cell_type": "code",
   "execution_count": null,
   "metadata": {},
   "outputs": [],
   "source": []
  }
 ]
}